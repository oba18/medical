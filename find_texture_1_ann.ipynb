{
 "cells": [
  {
   "cell_type": "code",
   "execution_count": 1,
   "metadata": {},
   "outputs": [],
   "source": [
    "import pylidc as pl\n",
    "import numpy as np"
   ]
  },
  {
   "cell_type": "code",
   "execution_count": 2,
   "metadata": {},
   "outputs": [
    {
     "data": {
      "text/plain": [
       "Annotation(id=88,scan_id=13)"
      ]
     },
     "execution_count": 2,
     "metadata": {},
     "output_type": "execute_result"
    }
   ],
   "source": [
    "# textureが1のアノテーションデータを取り出す\n",
    "ann = pl.query(pl.Annotation).filter(pl.Annotation.texture == 1).all()\n",
    "\n",
    "ann[0]"
   ]
  },
  {
   "cell_type": "code",
   "execution_count": 3,
   "metadata": {},
   "outputs": [],
   "source": [
    "ann_1 = pl.query(pl.Annotation.id).filter(pl.Annotation.texture == 1).all()"
   ]
  },
  {
   "cell_type": "code",
   "execution_count": 24,
   "metadata": {},
   "outputs": [
    {
     "name": "stdout",
     "output_type": "stream",
     "text": [
      "Annotation(id=88,scan_id=13)\n",
      "13\n",
      "Scan(id=1,patient_id=LIDC-IDRI-0078)\n",
      "Contour(id=1,annotation_id=1)\n"
     ]
    }
   ],
   "source": [
    "ann = pl.query(pl.Annotation).filter(pl.Annotation.texture == 1)[0]\n",
    "scan = pl.query(pl.Scan).filter(pl.Annotation.texture == 1)[0]\n",
    "contour = pl.query(pl.Contour)\n",
    "\n",
    "print (ann)\n",
    "print (ann.scan_id)\n",
    "print (scan)\n",
    "print (contour[0])"
   ]
  },
  {
   "cell_type": "code",
   "execution_count": null,
   "metadata": {},
   "outputs": [],
   "source": []
  }
 ],
 "metadata": {
  "kernelspec": {
   "display_name": "Python 3",
   "language": "python",
   "name": "python3"
  },
  "language_info": {
   "codemirror_mode": {
    "name": "ipython",
    "version": 3
   },
   "file_extension": ".py",
   "mimetype": "text/x-python",
   "name": "python",
   "nbconvert_exporter": "python",
   "pygments_lexer": "ipython3",
   "version": "3.7.0"
  }
 },
 "nbformat": 4,
 "nbformat_minor": 4
}
