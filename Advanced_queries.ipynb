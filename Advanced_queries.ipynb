{
 "cells": [
  {
   "cell_type": "code",
   "execution_count": 3,
   "metadata": {},
   "outputs": [],
   "source": [
    "import pylidc as pl\n",
    "from sqlalchemy import func"
   ]
  },
  {
   "cell_type": "code",
   "execution_count": 4,
   "metadata": {},
   "outputs": [
    {
     "name": "stdout",
     "output_type": "stream",
     "text": [
      "6118 Highly Suspicious\n",
      "5599 Highly Suspicious\n"
     ]
    }
   ],
   "source": [
    "# Fetch all highly suspicious nodules\n",
    "anns = pl.query(pl.Annotation).filter(pl.Annotation.malignancy == 5)\n",
    "\n",
    "ann = anns.order_by(func.random()).first()\n",
    "print(ann.id, ann.Malignancy)\n",
    "# => 2516, 'Highly Suspicious'\n",
    "\n",
    "ann = anns.order_by(func.random()).first()\n",
    "print(ann.id, ann.Malignancy)\n",
    "# => 4749, 'Highly Suspicious'"
   ]
  },
  {
   "cell_type": "code",
   "execution_count": 5,
   "metadata": {},
   "outputs": [
    {
     "name": "stdout",
     "output_type": "stream",
     "text": [
      "181\n"
     ]
    }
   ],
   "source": [
    "# Fetch all annotations with non-indeterminate malignancy value\n",
    "# and whose respective scan has slice thickness less than 1 mm.\n",
    "anns = pl.query(pl.Annotation).join(pl.Scan)\\\n",
    "         .filter(pl.Scan.slice_thickness < 1,\n",
    "                 pl.Annotation.malignancy != 3)\n",
    "print(anns.count())\n",
    "# => 181"
   ]
  },
  {
   "cell_type": "code",
   "execution_count": 6,
   "metadata": {},
   "outputs": [
    {
     "name": "stdout",
     "output_type": "stream",
     "text": [
      "4253\n"
     ]
    }
   ],
   "source": [
    "anns = pl.query(pl.Annotation)\\\n",
    "         .filter(pl.Annotation.malignancy != 3)\n",
    "print(anns.count())\n",
    "# => 4253"
   ]
  },
  {
   "cell_type": "code",
   "execution_count": 7,
   "metadata": {},
   "outputs": [
    {
     "name": "stdout",
     "output_type": "stream",
     "text": [
      "39\n"
     ]
    }
   ],
   "source": [
    "scans = pl.query(pl.Scan)\\\n",
    "          .filter(pl.Scan.slice_thickness < 1)\n",
    "print(scans.count())\n",
    "# => 39"
   ]
  },
  {
   "cell_type": "code",
   "execution_count": null,
   "metadata": {},
   "outputs": [],
   "source": []
  }
 ],
 "metadata": {
  "kernelspec": {
   "display_name": "Python 3",
   "language": "python",
   "name": "python3"
  },
  "language_info": {
   "codemirror_mode": {
    "name": "ipython",
    "version": 3
   },
   "file_extension": ".py",
   "mimetype": "text/x-python",
   "name": "python",
   "nbconvert_exporter": "python",
   "pygments_lexer": "ipython3",
   "version": "3.7.0"
  }
 },
 "nbformat": 4,
 "nbformat_minor": 4
}
