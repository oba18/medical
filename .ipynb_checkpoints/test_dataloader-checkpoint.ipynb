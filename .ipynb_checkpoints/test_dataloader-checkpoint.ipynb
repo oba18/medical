{
 "cells": [
  {
   "cell_type": "code",
   "execution_count": 1,
   "metadata": {},
   "outputs": [],
   "source": [
    "import pylidc as pl\n",
    "import numpy as np\n",
    "import matplotlib.pyplot as plt"
   ]
  },
  {
   "cell_type": "markdown",
   "metadata": {},
   "source": [
    "# Scan"
   ]
  },
  {
   "cell_type": "markdown",
   "metadata": {},
   "source": [
    "同じid(scan_id)を持つデータからアノテーションがある箇所を抜き出す"
   ]
  },
  {
   "cell_type": "code",
   "execution_count": 21,
   "metadata": {},
   "outputs": [
    {
     "data": {
      "text/plain": [
       "Scan(id=1,patient_id=LIDC-IDRI-0078)"
      ]
     },
     "execution_count": 21,
     "metadata": {},
     "output_type": "execute_result"
    }
   ],
   "source": [
    "# scanデータを1枚取り出す\n",
    "scan = pl.query(pl.Scan)[0] # .first()と同じ\n",
    "\n",
    "scan"
   ]
  },
  {
   "cell_type": "code",
   "execution_count": 14,
   "metadata": {},
   "outputs": [
    {
     "data": {
      "text/plain": [
       "[[Annotation(id=2,scan_id=1),\n",
       "  Annotation(id=6,scan_id=1),\n",
       "  Annotation(id=10,scan_id=1),\n",
       "  Annotation(id=13,scan_id=1)],\n",
       " [Annotation(id=1,scan_id=1),\n",
       "  Annotation(id=5,scan_id=1),\n",
       "  Annotation(id=9,scan_id=1),\n",
       "  Annotation(id=12,scan_id=1)],\n",
       " [Annotation(id=8,scan_id=1)],\n",
       " [Annotation(id=3,scan_id=1),\n",
       "  Annotation(id=4,scan_id=1),\n",
       "  Annotation(id=7,scan_id=1),\n",
       "  Annotation(id=11,scan_id=1)]]"
      ]
     },
     "execution_count": 14,
     "metadata": {},
     "output_type": "execute_result"
    }
   ],
   "source": [
    "# アノテーションされたの部分を抽出\n",
    "nodules = scan.cluster_annotations()\n",
    "\n",
    "nodules "
   ]
  },
  {
   "cell_type": "code",
   "execution_count": 16,
   "metadata": {},
   "outputs": [
    {
     "data": {
      "text/plain": [
       "4"
      ]
     },
     "execution_count": 16,
     "metadata": {},
     "output_type": "execute_result"
    }
   ],
   "source": [
    "# アノテーションされた個数\n",
    "len(nodules)"
   ]
  },
  {
   "cell_type": "markdown",
   "metadata": {},
   "source": [
    "アノテーションされたスキャンの画像をとってこれるようにしたい"
   ]
  },
  {
   "cell_type": "code",
   "execution_count": null,
   "metadata": {},
   "outputs": [],
   "source": []
  }
 ],
 "metadata": {
  "kernelspec": {
   "display_name": "Python 3",
   "language": "python",
   "name": "python3"
  },
  "language_info": {
   "codemirror_mode": {
    "name": "ipython",
    "version": 3
   },
   "file_extension": ".py",
   "mimetype": "text/x-python",
   "name": "python",
   "nbconvert_exporter": "python",
   "pygments_lexer": "ipython3",
   "version": "3.7.0"
  }
 },
 "nbformat": 4,
 "nbformat_minor": 4
}
