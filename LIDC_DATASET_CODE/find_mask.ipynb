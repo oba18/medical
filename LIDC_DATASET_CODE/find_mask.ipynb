{
 "cells": [
  {
   "cell_type": "code",
   "execution_count": 44,
   "metadata": {},
   "outputs": [],
   "source": [
    "import pylidc as pl\n",
    "import numpy as np\n",
    "import pydicom"
   ]
  },
  {
   "cell_type": "code",
   "execution_count": 3,
   "metadata": {},
   "outputs": [],
   "source": [
    "target_dicom = '/Volumes/masashi/workspace/0_KML/0_medical/0_data/LIDC-IDRI/LIDC-IDRI-0002/01-01-2000-98329/3000522.000000-04919/1-063.dcm'"
   ]
  },
  {
   "cell_type": "code",
   "execution_count": 51,
   "metadata": {},
   "outputs": [
    {
     "name": "stdout",
     "output_type": "stream",
     "text": [
      "88\n",
      "Scan(id=13,patient_id=LIDC-IDRI-0002)\n",
      "LIDC-IDRI-0002\n",
      "[[[-3024 -3024 -3024 ... -3024 -3024 -3024]\n",
      "  [-3024 -3024 -3024 ... -3024 -3024 -3024]\n",
      "  [-3024 -3024 -3024 ... -3024 -3024 -3024]\n",
      "  ...\n",
      "  [-3024 -3024 -3024 ... -3024 -3024 -3024]\n",
      "  [-3024 -3024 -3024 ... -3024 -3024 -3024]\n",
      "  [-3024 -3024 -3024 ... -3024 -3024 -3024]]\n",
      "\n",
      " [[-3024 -3024 -3024 ... -3024 -3024 -3024]\n",
      "  [-3024 -3024 -3024 ... -3024 -3024 -3024]\n",
      "  [-3024 -3024 -3024 ... -3024 -3024 -3024]\n",
      "  ...\n",
      "  [-3024 -3024 -3024 ... -3024 -3024 -3024]\n",
      "  [-3024 -3024 -3024 ... -3024 -3024 -3024]\n",
      "  [-3024 -3024 -3024 ... -3024 -3024 -3024]]\n",
      "\n",
      " [[-3024 -3024 -3024 ... -3024 -3024 -3024]\n",
      "  [-3024 -3024 -3024 ... -3024 -3024 -3024]\n",
      "  [-3024 -3024 -3024 ... -3024 -3024 -3024]\n",
      "  ...\n",
      "  [-3024 -3024 -3024 ... -3024 -3024 -3024]\n",
      "  [-3024 -3024 -3024 ... -3024 -3024 -3024]\n",
      "  [-3024 -3024 -3024 ... -3024 -3024 -3024]]\n",
      "\n",
      " ...\n",
      "\n",
      " [[-3024 -3024 -3024 ... -3024 -3024 -3024]\n",
      "  [-3024 -3024 -3024 ... -3024 -3024 -3024]\n",
      "  [-3024 -3024 -3024 ... -3024 -3024 -3024]\n",
      "  ...\n",
      "  [-3024 -3024 -3024 ... -3024 -3024 -3024]\n",
      "  [-3024 -3024 -3024 ... -3024 -3024 -3024]\n",
      "  [-3024 -3024 -3024 ... -3024 -3024 -3024]]\n",
      "\n",
      " [[-3024 -3024 -3024 ... -3024 -3024 -3024]\n",
      "  [-3024 -3024 -3024 ... -3024 -3024 -3024]\n",
      "  [-3024 -3024 -3024 ... -3024 -3024 -3024]\n",
      "  ...\n",
      "  [-3024 -3024 -3024 ... -3024 -3024 -3024]\n",
      "  [-3024 -3024 -3024 ... -3024 -3024 -3024]\n",
      "  [-3024 -3024 -3024 ... -3024 -3024 -3024]]\n",
      "\n",
      " [[-3024 -3024 -3024 ... -3024 -3024 -3024]\n",
      "  [-3024 -3024 -3024 ... -3024 -3024 -3024]\n",
      "  [-3024 -3024 -3024 ... -3024 -3024 -3024]\n",
      "  ...\n",
      "  [-3024 -3024 -3024 ... -3024 -3024 -3024]\n",
      "  [-3024 -3024 -3024 ... -3024 -3024 -3024]\n",
      "  [-3024 -3024 -3024 ... -3024 -3024 -3024]]]\n",
      "(512, 512, 261)\n",
      "1.25\n",
      "[-334.5  -333.25 -332.   -330.75 -329.5  -328.25 -327.   -325.75 -324.5\n",
      " -323.25 -322.   -320.75 -319.5  -318.25 -317.   -315.75 -314.5  -313.25\n",
      " -312.   -310.75 -309.5  -308.25 -307.   -305.75 -304.5  -303.25 -302.\n",
      " -300.75 -299.5  -298.25 -297.   -295.75 -294.5  -293.25 -292.   -290.75\n",
      " -289.5  -288.25 -287.   -285.75 -284.5  -283.25 -282.   -280.75 -279.5\n",
      " -278.25 -277.   -275.75 -274.5  -273.25 -272.   -270.75 -269.5  -268.25\n",
      " -267.   -265.75 -264.5  -263.25 -262.   -260.75 -259.5  -258.25 -257.\n",
      " -255.75 -254.5  -253.25 -252.   -250.75 -249.5  -248.25 -247.   -245.75\n",
      " -244.5  -243.25 -242.   -240.75 -239.5  -238.25 -237.   -235.75 -234.5\n",
      " -233.25 -232.   -230.75 -229.5  -228.25 -227.   -225.75 -224.5  -223.25\n",
      " -222.   -220.75 -219.5  -218.25 -217.   -215.75 -214.5  -213.25 -212.\n",
      " -210.75 -209.5  -208.25 -207.   -205.75 -204.5  -203.25 -202.   -200.75\n",
      " -199.5  -198.25 -197.   -195.75 -194.5  -193.25 -192.   -190.75 -189.5\n",
      " -188.25 -187.   -185.75 -184.5  -183.25 -182.   -180.75 -179.5  -178.25\n",
      " -177.   -175.75 -174.5  -173.25 -172.   -170.75 -169.5  -168.25 -167.\n",
      " -165.75 -164.5  -163.25 -162.   -160.75 -159.5  -158.25 -157.   -155.75\n",
      " -154.5  -153.25 -152.   -150.75 -149.5  -148.25 -147.   -145.75 -144.5\n",
      " -143.25 -142.   -140.75 -139.5  -138.25 -137.   -135.75 -134.5  -133.25\n",
      " -132.   -130.75 -129.5  -128.25 -127.   -125.75 -124.5  -123.25 -122.\n",
      " -120.75 -119.5  -118.25 -117.   -115.75 -114.5  -113.25 -112.   -110.75\n",
      " -109.5  -108.25 -107.   -105.75 -104.5  -103.25 -102.   -100.75  -99.5\n",
      "  -98.25  -97.    -95.75  -94.5   -93.25  -92.    -90.75  -89.5   -88.25\n",
      "  -87.    -85.75  -84.5   -83.25  -82.    -80.75  -79.5   -78.25  -77.\n",
      "  -75.75  -74.5   -73.25  -72.    -70.75  -69.5   -68.25  -67.    -65.75\n",
      "  -64.5   -63.25  -62.    -60.75  -59.5   -58.25  -57.    -55.75  -54.5\n",
      "  -53.25  -52.    -50.75  -49.5   -48.25  -47.    -45.75  -44.5   -43.25\n",
      "  -42.    -40.75  -39.5   -38.25  -37.    -35.75  -34.5   -33.25  -32.\n",
      "  -30.75  -29.5   -28.25  -27.    -25.75  -24.5   -23.25  -22.    -20.75\n",
      "  -19.5   -18.25  -17.    -15.75  -14.5   -13.25  -12.    -10.75   -9.5 ]\n"
     ]
    }
   ],
   "source": [
    "ann = pl.query(pl.Annotation).filter(pl.Annotation.texture == 1)[0]\n",
    "mask = ann.boolean_mask()\n",
    "vol = ann.scan.to_volume(False)\n",
    "ann_mask = ann.scan\n",
    "\n",
    "print (ann.id)\n",
    "print (ann_mask)\n",
    "print (ann_mask.patient_id)\n",
    "# print (mask)\n",
    "# print (mask.shape)\n",
    "print (vol)\n",
    "print (vol.shape)\n",
    "print (ann_mask.slice_spacing)\n",
    "print (ann_mask.slice_zvals)"
   ]
  },
  {
   "cell_type": "code",
   "execution_count": 65,
   "metadata": {},
   "outputs": [
    {
     "name": "stdout",
     "output_type": "stream",
     "text": [
      "[Contour(id=390,annotation_id=88), Contour(id=391,annotation_id=88), Contour(id=392,annotation_id=88), Contour(id=393,annotation_id=88), Contour(id=394,annotation_id=88), Contour(id=395,annotation_id=88), Contour(id=396,annotation_id=88), Contour(id=397,annotation_id=88), Contour(id=398,annotation_id=88), Contour(id=399,annotation_id=88), Contour(id=400,annotation_id=88), Contour(id=401,annotation_id=88), Contour(id=402,annotation_id=88), Contour(id=403,annotation_id=88), Contour(id=404,annotation_id=88), Contour(id=405,annotation_id=88), Contour(id=406,annotation_id=88), Contour(id=407,annotation_id=88), Contour(id=408,annotation_id=88), Contour(id=409,annotation_id=88), Contour(id=410,annotation_id=88), Contour(id=411,annotation_id=88), Contour(id=412,annotation_id=88), Contour(id=413,annotation_id=88), Contour(id=414,annotation_id=88), Contour(id=415,annotation_id=88), Contour(id=416,annotation_id=88), Contour(id=417,annotation_id=88), Contour(id=418,annotation_id=88), Contour(id=419,annotation_id=88)]\n",
      "30\n",
      "[[363 343 198]\n",
      " [362 344 198]\n",
      " [361 345 198]\n",
      " [360 345 198]\n",
      " [359 344 198]\n",
      " [358 343 198]\n",
      " [358 342 198]\n",
      " [358 341 198]\n",
      " [358 340 198]\n",
      " [357 339 198]\n",
      " [357 338 198]\n",
      " [357 337 198]\n",
      " [357 336 198]\n",
      " [356 335 198]\n",
      " [357 334 198]\n",
      " [358 333 198]\n",
      " [359 333 198]\n",
      " [360 334 198]\n",
      " [361 335 198]\n",
      " [361 336 198]\n",
      " [361 337 198]\n",
      " [361 338 198]\n",
      " [362 339 198]\n",
      " [362 340 198]\n",
      " [363 341 198]\n",
      " [363 342 198]\n",
      " [363 343 198]]\n"
     ]
    }
   ],
   "source": [
    "contour = pl.query(pl.Contour).filter(pl.Contour.annotation_id == 88)\n",
    "\n",
    "print (contour.all())\n",
    "print (contour.count())\n",
    "print (contour.first().to_matrix())"
   ]
  },
  {
   "cell_type": "code",
   "execution_count": 22,
   "metadata": {},
   "outputs": [
    {
     "ename": "AttributeError",
     "evalue": "'Query' object has no attribute 'annotation_id'",
     "output_type": "error",
     "traceback": [
      "\u001b[0;31m---------------------------------------------------------------------------\u001b[0m",
      "\u001b[0;31mAttributeError\u001b[0m                            Traceback (most recent call last)",
      "\u001b[0;32m<ipython-input-22-7d3915f9d85b>\u001b[0m in \u001b[0;36m<module>\u001b[0;34m\u001b[0m\n\u001b[0;32m----> 1\u001b[0;31m \u001b[0mcontour\u001b[0m\u001b[0;34m.\u001b[0m\u001b[0mannotation_id\u001b[0m\u001b[0;34m\u001b[0m\u001b[0m\n\u001b[0m",
      "\u001b[0;31mAttributeError\u001b[0m: 'Query' object has no attribute 'annotation_id'"
     ]
    }
   ],
   "source": [
    "contour.annotation_id"
   ]
  },
  {
   "cell_type": "code",
   "execution_count": 62,
   "metadata": {},
   "outputs": [
    {
     "name": "stdout",
     "output_type": "stream",
     "text": [
      "[[-2000 -2000 -2000 ... -2000 -2000 -2000]\n",
      " [-2000 -2000 -2000 ... -2000 -2000 -2000]\n",
      " [-2000 -2000 -2000 ... -2000 -2000 -2000]\n",
      " ...\n",
      " [-2000 -2000 -2000 ... -2000 -2000 -2000]\n",
      " [-2000 -2000 -2000 ... -2000 -2000 -2000]\n",
      " [-2000 -2000 -2000 ... -2000 -2000 -2000]]\n",
      "(512, 512)\n"
     ]
    }
   ],
   "source": [
    "ds = pydicom.dcmread(target_dicom)\n",
    "\n",
    "print (ds.pixel_array)\n",
    "print (ds.pixel_array.shape)"
   ]
  },
  {
   "cell_type": "code",
   "execution_count": null,
   "metadata": {},
   "outputs": [],
   "source": []
  }
 ],
 "metadata": {
  "kernelspec": {
   "display_name": "Python 3",
   "language": "python",
   "name": "python3"
  },
  "language_info": {
   "codemirror_mode": {
    "name": "ipython",
    "version": 3
   },
   "file_extension": ".py",
   "mimetype": "text/x-python",
   "name": "python",
   "nbconvert_exporter": "python",
   "pygments_lexer": "ipython3",
   "version": "3.7.0"
  }
 },
 "nbformat": 4,
 "nbformat_minor": 4
}
