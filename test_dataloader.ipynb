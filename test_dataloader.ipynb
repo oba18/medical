{
 "cells": [
  {
   "cell_type": "code",
   "execution_count": 135,
   "metadata": {},
   "outputs": [],
   "source": [
    "import pylidc as pl\n",
    "import numpy as np\n",
    "import matplotlib.pyplot as plt\n",
    "import glob\n",
    "import os"
   ]
  },
  {
   "cell_type": "markdown",
   "metadata": {},
   "source": [
    "# Scan"
   ]
  },
  {
   "cell_type": "markdown",
   "metadata": {},
   "source": [
    "同じid(scan_id)を持つデータからアノテーションがある箇所を抜き出す"
   ]
  },
  {
   "cell_type": "code",
   "execution_count": 185,
   "metadata": {},
   "outputs": [
    {
     "data": {
      "text/plain": [
       "Scan(id=1,patient_id=LIDC-IDRI-0078)"
      ]
     },
     "execution_count": 185,
     "metadata": {},
     "output_type": "execute_result"
    }
   ],
   "source": [
    "# scanデータを1枚取り出す\n",
    "scan = pl.query(pl.Scan)[0] # .first()と同じ\n",
    "\n",
    "scan"
   ]
  },
  {
   "cell_type": "code",
   "execution_count": 186,
   "metadata": {},
   "outputs": [
    {
     "name": "stdout",
     "output_type": "stream",
     "text": [
      "1478.5\n",
      "===============================\n",
      "3.0\n",
      "===============================\n",
      "0.65\n",
      "===============================\n",
      "False\n"
     ]
    }
   ],
   "source": [
    "print (scan.slice_zvals[25])\n",
    "print ('===============================')\n",
    "print (scan.slice_spacing)\n",
    "print ('===============================')\n",
    "print (scan.pixel_spacing)\n",
    "print ('===============================')\n",
    "print (scan.is_from_initial)"
   ]
  },
  {
   "cell_type": "code",
   "execution_count": 187,
   "metadata": {},
   "outputs": [
    {
     "data": {
      "text/plain": [
       "[[Annotation(id=2,scan_id=1),\n",
       "  Annotation(id=6,scan_id=1),\n",
       "  Annotation(id=10,scan_id=1),\n",
       "  Annotation(id=13,scan_id=1)],\n",
       " [Annotation(id=1,scan_id=1),\n",
       "  Annotation(id=5,scan_id=1),\n",
       "  Annotation(id=9,scan_id=1),\n",
       "  Annotation(id=12,scan_id=1)],\n",
       " [Annotation(id=8,scan_id=1)],\n",
       " [Annotation(id=3,scan_id=1),\n",
       "  Annotation(id=4,scan_id=1),\n",
       "  Annotation(id=7,scan_id=1),\n",
       "  Annotation(id=11,scan_id=1)]]"
      ]
     },
     "execution_count": 187,
     "metadata": {},
     "output_type": "execute_result"
    }
   ],
   "source": [
    "# アノテーションされたの部分を抽出\n",
    "nodules = scan.cluster_annotations()\n",
    "\n",
    "nodules "
   ]
  },
  {
   "cell_type": "code",
   "execution_count": 168,
   "metadata": {},
   "outputs": [
    {
     "data": {
      "text/plain": [
       "1"
      ]
     },
     "execution_count": 168,
     "metadata": {},
     "output_type": "execute_result"
    }
   ],
   "source": [
    "# アノテーションされた個数\n",
    "len(nodules)"
   ]
  },
  {
   "cell_type": "markdown",
   "metadata": {},
   "source": [
    "アノテーションされたスキャンの画像をとってこれるようにしたい"
   ]
  },
  {
   "cell_type": "code",
   "execution_count": 169,
   "metadata": {},
   "outputs": [],
   "source": [
    "# dir(scan)"
   ]
  },
  {
   "cell_type": "markdown",
   "metadata": {},
   "source": [
    "# Annotation"
   ]
  },
  {
   "cell_type": "code",
   "execution_count": 172,
   "metadata": {},
   "outputs": [
    {
     "data": {
      "text/plain": [
       "Annotation(id=12,scan_id=1)"
      ]
     },
     "execution_count": 172,
     "metadata": {},
     "output_type": "execute_result"
    }
   ],
   "source": [
    "ann = pl.query(pl.Annotation)[11]\n",
    "\n",
    "ann"
   ]
  },
  {
   "cell_type": "code",
   "execution_count": 173,
   "metadata": {},
   "outputs": [],
   "source": [
    "# dir(ann)"
   ]
  },
  {
   "cell_type": "code",
   "execution_count": 174,
   "metadata": {},
   "outputs": [
    {
     "data": {
      "text/plain": [
       "'Soft Tissue'"
      ]
     },
     "execution_count": 174,
     "metadata": {},
     "output_type": "execute_result"
    }
   ],
   "source": [
    "ann.InternalStructure"
   ]
  },
  {
   "cell_type": "code",
   "execution_count": 175,
   "metadata": {},
   "outputs": [
    {
     "name": "stdout",
     "output_type": "stream",
     "text": [
      "[5 1 6 4 3 4 4 4 3]\n",
      "\n",
      "        Return all feature values as a numpy array in the order \n",
      "        presented in `feature_names`.\n",
      "\n",
      "        Parameters\n",
      "        ----------\n",
      "        return_str: bool, default=False\n",
      "            If True, a list of strings is also returned, corresponding\n",
      "            to the meaning of each numerical feature value.\n",
      "\n",
      "        Return\n",
      "        ------\n",
      "            fvals[, fstrs]: array[, list of strings]\n",
      "                `fvals` is an array of numerical values corresponding to the \n",
      "                numerical feature values for the annotation. `fstrs` is a \n",
      "                list of semantic string interpretations of the numerical \n",
      "                values given in `fvals`.\n",
      "        \n",
      "Feature              Meaning                    # \n",
      "-                    -                          - \n",
      "Subtlety           | Obvious                  | 5 \n",
      "Internalstructure  | Soft Tissue              | 1 \n",
      "Calcification      | Absent                   | 6 \n",
      "Sphericity         | Ovoid/Round              | 4 \n",
      "Margin             | Medium Margin            | 3 \n",
      "Lobulation         | Near Marked Lobulation   | 4 \n",
      "Spiculation        | Near Marked Spiculation  | 4 \n",
      "Texture            | Solid/Mixed              | 4 \n",
      "Malignancy         | Indeterminate            | 3 \n",
      "None\n",
      "1043.1617668116048\n"
     ]
    }
   ],
   "source": [
    "print (ann.feature_vals())\n",
    "print (ann.feature_vals.__doc__)\n",
    "print (ann.print_formatted_feature_table())\n",
    "print (ann.surface_area)"
   ]
  },
  {
   "cell_type": "code",
   "execution_count": 176,
   "metadata": {},
   "outputs": [
    {
     "name": "stdout",
     "output_type": "stream",
     "text": [
      "2379.7312500007683\n"
     ]
    }
   ],
   "source": [
    "print (ann.volume)"
   ]
  },
  {
   "cell_type": "code",
   "execution_count": 177,
   "metadata": {},
   "outputs": [
    {
     "name": "stdout",
     "output_type": "stream",
     "text": [
      "Loading dicom files ... This may take a moment.\n"
     ]
    },
    {
     "data": {
      "text/plain": [
       "(512, 512, 87)"
      ]
     },
     "execution_count": 177,
     "metadata": {},
     "output_type": "execute_result"
    }
   ],
   "source": [
    "ann.scan.to_volume().shape"
   ]
  },
  {
   "cell_type": "code",
   "execution_count": 178,
   "metadata": {},
   "outputs": [
    {
     "name": "stdout",
     "output_type": "stream",
     "text": [
      "[[Annotation(id=84,scan_id=12), Annotation(id=85,scan_id=12), Annotation(id=86,scan_id=12), Annotation(id=87,scan_id=12)]]\n"
     ]
    }
   ],
   "source": [
    "annotation_groups = scan.cluster_annotations()\n",
    "print (scan.cluster_annotations())\n",
    "# nnods = len(annotation_groups) "
   ]
  },
  {
   "cell_type": "code",
   "execution_count": 179,
   "metadata": {},
   "outputs": [
    {
     "data": {
      "text/plain": [
       "[array([366.79583147, 315.98177388,  89.6551326 ])]"
      ]
     },
     "execution_count": 179,
     "metadata": {},
     "output_type": "execute_result"
    }
   ],
   "source": [
    "# アノテーション部分の重心を取る\n",
    "centroids = [np.array([a.centroid for a in group]).mean(0) for group in annotation_groups] \n",
    "\n",
    "centroids"
   ]
  },
  {
   "cell_type": "code",
   "execution_count": 180,
   "metadata": {},
   "outputs": [
    {
     "data": {
      "text/plain": [
       "89"
      ]
     },
     "execution_count": 180,
     "metadata": {},
     "output_type": "execute_result"
    }
   ],
   "source": [
    "slice_num = int(centroids[0][2])\n",
    "\n",
    "slice_num"
   ]
  },
  {
   "cell_type": "code",
   "execution_count": 183,
   "metadata": {},
   "outputs": [
    {
     "data": {
      "text/plain": [
       "133"
      ]
     },
     "execution_count": 183,
     "metadata": {},
     "output_type": "execute_result"
    }
   ],
   "source": [
    "len_dicom_files = len(glob.glob('/Volumes/masashi/workspace/0_KML/0_medical/0_data/LIDC-IDRI/LIDC-IDRI-0001/*'))\n",
    "\n",
    "len_dicom_files"
   ]
  },
  {
   "cell_type": "code",
   "execution_count": 184,
   "metadata": {},
   "outputs": [
    {
     "data": {
      "text/plain": [
       "44"
      ]
     },
     "execution_count": 184,
     "metadata": {},
     "output_type": "execute_result"
    }
   ],
   "source": [
    "len_dicom_files - slice_num"
   ]
  },
  {
   "cell_type": "code",
   "execution_count": null,
   "metadata": {},
   "outputs": [],
   "source": []
  },
  {
   "cell_type": "code",
   "execution_count": null,
   "metadata": {},
   "outputs": [],
   "source": []
  }
 ],
 "metadata": {
  "kernelspec": {
   "display_name": "Python 3",
   "language": "python",
   "name": "python3"
  },
  "language_info": {
   "codemirror_mode": {
    "name": "ipython",
    "version": 3
   },
   "file_extension": ".py",
   "mimetype": "text/x-python",
   "name": "python",
   "nbconvert_exporter": "python",
   "pygments_lexer": "ipython3",
   "version": "3.7.0"
  }
 },
 "nbformat": 4,
 "nbformat_minor": 4
}
